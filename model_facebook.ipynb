{
 "cells": [
  {
   "cell_type": "code",
   "execution_count": 40,
   "metadata": {},
   "outputs": [],
   "source": [
    "import numpy as np\n",
    "import pandas as pd \n",
    "import matplotlib.pyplot as plt\n",
    "%matplotlib inline\n",
    "import os\n",
    "\n",
    "# Import functions for data preprocessing & data preparation\n",
    "from sklearn.preprocessing import LabelEncoder\n",
    "from sklearn.utils import resample\n",
    "from sklearn.feature_extraction.text import CountVectorizer\n",
    "from nltk.sentiment.vader import SentimentIntensityAnalyzer\n",
    "\n",
    "from nltk.tokenize import word_tokenize\n",
    "from nltk.stem import WordNetLemmatizer\n",
    "from nltk.stem import PorterStemmer, LancasterStemmer\n",
    "from nltk.stem.snowball import SnowballStemmer\n",
    "from nltk.corpus import stopwords\n",
    "from nltk.corpus import wordnet\n",
    "import string\n",
    "from string import punctuation\n",
    "import nltk\n",
    "import re"
   ]
  },
  {
   "cell_type": "code",
   "execution_count": 6,
   "metadata": {},
   "outputs": [],
   "source": [
    "from facebook_scraper import get_posts"
   ]
  },
  {
   "cell_type": "code",
   "execution_count": 7,
   "metadata": {},
   "outputs": [],
   "source": [
    "import facebook    #sudo pip install facebook-sdk\n",
    "import itertools\n",
    "import json\n",
    "import re\n",
    "import requests"
   ]
  },
  {
   "cell_type": "code",
   "execution_count": 37,
   "metadata": {},
   "outputs": [
    {
     "data": {
      "text/html": [
       "<div>\n",
       "<style scoped>\n",
       "    .dataframe tbody tr th:only-of-type {\n",
       "        vertical-align: middle;\n",
       "    }\n",
       "\n",
       "    .dataframe tbody tr th {\n",
       "        vertical-align: top;\n",
       "    }\n",
       "\n",
       "    .dataframe thead th {\n",
       "        text-align: right;\n",
       "    }\n",
       "</style>\n",
       "<table border=\"1\" class=\"dataframe\">\n",
       "  <thead>\n",
       "    <tr style=\"text-align: right;\">\n",
       "      <th></th>\n",
       "      <th>name</th>\n",
       "      <th>time</th>\n",
       "      <th>message</th>\n",
       "    </tr>\n",
       "  </thead>\n",
       "  <tbody>\n",
       "    <tr>\n",
       "      <th>0</th>\n",
       "      <td>Coders</td>\n",
       "      <td>2023-08-25T15:34:06+0000</td>\n",
       "      <td>nice</td>\n",
       "    </tr>\n",
       "    <tr>\n",
       "      <th>1</th>\n",
       "      <td>Coders</td>\n",
       "      <td>2023-08-25T15:34:04+0000</td>\n",
       "      <td>great</td>\n",
       "    </tr>\n",
       "    <tr>\n",
       "      <th>2</th>\n",
       "      <td>Coders</td>\n",
       "      <td>2023-08-25T15:34:10+0000</td>\n",
       "      <td>lovely</td>\n",
       "    </tr>\n",
       "    <tr>\n",
       "      <th>3</th>\n",
       "      <td>Coders</td>\n",
       "      <td>2023-08-25T15:34:08+0000</td>\n",
       "      <td>so good</td>\n",
       "    </tr>\n",
       "  </tbody>\n",
       "</table>\n",
       "</div>"
      ],
      "text/plain": [
       "     name                      time  message\n",
       "0  Coders  2023-08-25T15:34:06+0000     nice\n",
       "1  Coders  2023-08-25T15:34:04+0000    great\n",
       "2  Coders  2023-08-25T15:34:10+0000   lovely\n",
       "3  Coders  2023-08-25T15:34:08+0000  so good"
      ]
     },
     "execution_count": 37,
     "metadata": {},
     "output_type": "execute_result"
    }
   ],
   "source": [
    "import requests\n",
    "import pandas as pd\n",
    "import json\n",
    "\n",
    "page_id = '106743975862287' # your page id, ex: '123456789'\n",
    "post_id = '122094996674026419' # your post id, ex: '123456789'\n",
    "\n",
    "\n",
    "url = f'https://graph.facebook.com/v16.0/{page_id}_{post_id}/comments?access_token={access_token}'\n",
    "\n",
    "response = requests.request(\"GET\", url)\n",
    "\n",
    "# save name, time, message in excel file\n",
    "data = json.loads(response.text)\n",
    "\n",
    "#create object with only name, time, message\n",
    "def get_comment(comment):\n",
    "    return {\n",
    "        'name': comment['from']['name'],\n",
    "        'time': comment['created_time'],\n",
    "        'message': comment['message']\n",
    "    }\n",
    "\n",
    "\n",
    "\n",
    "excel_data = list(map(get_comment, data['data']))\n",
    "df = pd.DataFrame(excel_data)\n",
    "df.head()"
   ]
  },
  {
   "cell_type": "markdown",
   "metadata": {},
   "source": [
    "## CREATING MODEL "
   ]
  },
  {
   "cell_type": "code",
   "execution_count": 38,
   "metadata": {},
   "outputs": [],
   "source": [
    "from nltk.corpus import stopwords\n",
    "from nltk.stem import PorterStemmer\n",
    "from nltk import word_tokenize\n",
    "import string\n",
    "import pandas as pd\n"
   ]
  },
  {
   "cell_type": "markdown",
   "metadata": {},
   "source": [
    "# Cleaning Data\n"
   ]
  },
  {
   "cell_type": "code",
   "execution_count": 41,
   "metadata": {},
   "outputs": [
    {
     "name": "stderr",
     "output_type": "stream",
     "text": [
      "[nltk_data] Downloading package omw-1.4 to\n",
      "[nltk_data]     /Users/arnavgupta/nltk_data...\n",
      "[nltk_data]   Package omw-1.4 is already up-to-date!\n"
     ]
    },
    {
     "data": {
      "text/plain": [
       "True"
      ]
     },
     "execution_count": 41,
     "metadata": {},
     "output_type": "execute_result"
    }
   ],
   "source": [
    "snowball_stemer = SnowballStemmer(language=\"english\")\n",
    "lzr = WordNetLemmatizer()\n",
    "nltk.download('omw-1.4')"
   ]
  },
  {
   "cell_type": "markdown",
   "metadata": {},
   "source": []
  },
  {
   "cell_type": "code",
   "execution_count": 44,
   "metadata": {},
   "outputs": [],
   "source": [
    "def clean_comments(dataframe: pd.DataFrame):\n",
    "    dataframe[\"cleaned\"]=(\n",
    "        dataframe[\"name\"]\n",
    "        .str.strip()\n",
    "        .str.replace(\"\\n\", \" \")\n",
    "        .str.replace(r\"[^\\w\\s]+\", \"\", regex=True)\n",
    "        .str.lower()\n",
    "        .str.replace(r\"#\\S+\", \" \", regex=True)\n",
    "    )\n",
    "    stop_words=stopwords.words('english')\n",
    "    punctuations=list(string.punctuation)\n",
    "    dataframe[\"cleaned\"]=dataframe[\"cleaned\"].apply(lambda comment: \" \".join([word for word in comment.split() if word not in stop_words])) #removing stop words\n",
    "    dataframe[\"cleaned\"]=dataframe[\"cleaned\"].apply(lambda comment: \" \".join([word for word in comment.split() if word not in punctuation])) # removing punctuations\n",
    "\n",
    "    dataframe[\"cleaned\"]=dataframe[\"cleaned\"].apply(lambda comment:\" \".join([lzr.lemmatize(word) for word in comment.split()]))#Lemmatization\n",
    "\n",
    "    #stemming(not recommended )\n",
    "    #dataframe[\"cleaned\"]=dataframe[\"cleaned\"].apply(lambda comment :\" \".join([snowball_stemer.stem(word) for word in comment.split()]))\n",
    "\n",
    "\n",
    "\n",
    "\n",
    "\n",
    "    return dataframe\n",
    "\n",
    "\n",
    "\n",
    "    \n"
   ]
  },
  {
   "cell_type": "code",
   "execution_count": 45,
   "metadata": {},
   "outputs": [
    {
     "data": {
      "text/html": [
       "<div>\n",
       "<style scoped>\n",
       "    .dataframe tbody tr th:only-of-type {\n",
       "        vertical-align: middle;\n",
       "    }\n",
       "\n",
       "    .dataframe tbody tr th {\n",
       "        vertical-align: top;\n",
       "    }\n",
       "\n",
       "    .dataframe thead th {\n",
       "        text-align: right;\n",
       "    }\n",
       "</style>\n",
       "<table border=\"1\" class=\"dataframe\">\n",
       "  <thead>\n",
       "    <tr style=\"text-align: right;\">\n",
       "      <th></th>\n",
       "      <th>name</th>\n",
       "      <th>time</th>\n",
       "      <th>message</th>\n",
       "      <th>cleaned</th>\n",
       "    </tr>\n",
       "  </thead>\n",
       "  <tbody>\n",
       "    <tr>\n",
       "      <th>0</th>\n",
       "      <td>Coders</td>\n",
       "      <td>2023-08-25T15:34:06+0000</td>\n",
       "      <td>nice</td>\n",
       "      <td>coder</td>\n",
       "    </tr>\n",
       "    <tr>\n",
       "      <th>1</th>\n",
       "      <td>Coders</td>\n",
       "      <td>2023-08-25T15:34:04+0000</td>\n",
       "      <td>great</td>\n",
       "      <td>coder</td>\n",
       "    </tr>\n",
       "    <tr>\n",
       "      <th>2</th>\n",
       "      <td>Coders</td>\n",
       "      <td>2023-08-25T15:34:10+0000</td>\n",
       "      <td>lovely</td>\n",
       "      <td>coder</td>\n",
       "    </tr>\n",
       "    <tr>\n",
       "      <th>3</th>\n",
       "      <td>Coders</td>\n",
       "      <td>2023-08-25T15:34:08+0000</td>\n",
       "      <td>so good</td>\n",
       "      <td>coder</td>\n",
       "    </tr>\n",
       "  </tbody>\n",
       "</table>\n",
       "</div>"
      ],
      "text/plain": [
       "     name                      time  message cleaned\n",
       "0  Coders  2023-08-25T15:34:06+0000     nice   coder\n",
       "1  Coders  2023-08-25T15:34:04+0000    great   coder\n",
       "2  Coders  2023-08-25T15:34:10+0000   lovely   coder\n",
       "3  Coders  2023-08-25T15:34:08+0000  so good   coder"
      ]
     },
     "execution_count": 45,
     "metadata": {},
     "output_type": "execute_result"
    }
   ],
   "source": [
    "dfc=clean_comments(df)\n",
    "dfc.head(10)"
   ]
  },
  {
   "cell_type": "code",
   "execution_count": 46,
   "metadata": {},
   "outputs": [],
   "source": [
    "def _get_polarity_score(analyzer: SentimentIntensityAnalyzer, text: str):\n",
    "\n",
    "    scores = analyzer.polarity_scores(text)\n",
    "    return scores[\"compound\"]\n",
    "\n",
    "def _convert_score_to_sentiment(score):\n",
    "    sentiment = \"\"\n",
    "\n",
    "    if score <0.0:\n",
    "        sentiment = \"Negative\"\n",
    "    elif -.05< score <= 0.5:\n",
    "        sentiment = \"Neutral\"\n",
    "    elif score >0.5:\n",
    "        sentiment = \"Positive\"\n",
    "\n",
    "    return sentiment"
   ]
  },
  {
   "cell_type": "code",
   "execution_count": 47,
   "metadata": {},
   "outputs": [],
   "source": [
    "def test_1(dataframe : pd.DataFrame):\n",
    "    analyzer=SentimentIntensityAnalyzer()\n",
    "    dataframe[\"score\"]=dataframe[\"cleaned\"].apply(\n",
    "        lambda comment : _get_polarity_score(analyzer,comment)\n",
    "    )\n",
    "\n",
    "    dataframe[\"sentiments\"]=dataframe[\"score\"].apply(\n",
    "        lambda score: _convert_score_to_sentiment(score)\n",
    "    )\n",
    "\n",
    "    return dataframe"
   ]
  },
  {
   "cell_type": "code",
   "execution_count": 48,
   "metadata": {},
   "outputs": [
    {
     "data": {
      "text/html": [
       "<div>\n",
       "<style scoped>\n",
       "    .dataframe tbody tr th:only-of-type {\n",
       "        vertical-align: middle;\n",
       "    }\n",
       "\n",
       "    .dataframe tbody tr th {\n",
       "        vertical-align: top;\n",
       "    }\n",
       "\n",
       "    .dataframe thead th {\n",
       "        text-align: right;\n",
       "    }\n",
       "</style>\n",
       "<table border=\"1\" class=\"dataframe\">\n",
       "  <thead>\n",
       "    <tr style=\"text-align: right;\">\n",
       "      <th></th>\n",
       "      <th>name</th>\n",
       "      <th>time</th>\n",
       "      <th>message</th>\n",
       "      <th>cleaned</th>\n",
       "      <th>score</th>\n",
       "      <th>sentiments</th>\n",
       "    </tr>\n",
       "  </thead>\n",
       "  <tbody>\n",
       "    <tr>\n",
       "      <th>0</th>\n",
       "      <td>Coders</td>\n",
       "      <td>2023-08-25T15:34:06+0000</td>\n",
       "      <td>nice</td>\n",
       "      <td>coder</td>\n",
       "      <td>0.0</td>\n",
       "      <td>Neutral</td>\n",
       "    </tr>\n",
       "    <tr>\n",
       "      <th>1</th>\n",
       "      <td>Coders</td>\n",
       "      <td>2023-08-25T15:34:04+0000</td>\n",
       "      <td>great</td>\n",
       "      <td>coder</td>\n",
       "      <td>0.0</td>\n",
       "      <td>Neutral</td>\n",
       "    </tr>\n",
       "    <tr>\n",
       "      <th>2</th>\n",
       "      <td>Coders</td>\n",
       "      <td>2023-08-25T15:34:10+0000</td>\n",
       "      <td>lovely</td>\n",
       "      <td>coder</td>\n",
       "      <td>0.0</td>\n",
       "      <td>Neutral</td>\n",
       "    </tr>\n",
       "    <tr>\n",
       "      <th>3</th>\n",
       "      <td>Coders</td>\n",
       "      <td>2023-08-25T15:34:08+0000</td>\n",
       "      <td>so good</td>\n",
       "      <td>coder</td>\n",
       "      <td>0.0</td>\n",
       "      <td>Neutral</td>\n",
       "    </tr>\n",
       "  </tbody>\n",
       "</table>\n",
       "</div>"
      ],
      "text/plain": [
       "     name                      time  message cleaned  score sentiments\n",
       "0  Coders  2023-08-25T15:34:06+0000     nice   coder    0.0    Neutral\n",
       "1  Coders  2023-08-25T15:34:04+0000    great   coder    0.0    Neutral\n",
       "2  Coders  2023-08-25T15:34:10+0000   lovely   coder    0.0    Neutral\n",
       "3  Coders  2023-08-25T15:34:08+0000  so good   coder    0.0    Neutral"
      ]
     },
     "execution_count": 48,
     "metadata": {},
     "output_type": "execute_result"
    }
   ],
   "source": [
    "dff=test_1(dfc)\n",
    "dff"
   ]
  },
  {
   "cell_type": "code",
   "execution_count": 49,
   "metadata": {},
   "outputs": [
    {
     "data": {
      "text/html": [
       "<div>\n",
       "<style scoped>\n",
       "    .dataframe tbody tr th:only-of-type {\n",
       "        vertical-align: middle;\n",
       "    }\n",
       "\n",
       "    .dataframe tbody tr th {\n",
       "        vertical-align: top;\n",
       "    }\n",
       "\n",
       "    .dataframe thead th {\n",
       "        text-align: right;\n",
       "    }\n",
       "</style>\n",
       "<table border=\"1\" class=\"dataframe\">\n",
       "  <thead>\n",
       "    <tr style=\"text-align: right;\">\n",
       "      <th></th>\n",
       "      <th>Counts</th>\n",
       "    </tr>\n",
       "    <tr>\n",
       "      <th>Sentiment</th>\n",
       "      <th></th>\n",
       "    </tr>\n",
       "  </thead>\n",
       "  <tbody>\n",
       "    <tr>\n",
       "      <th>Neutral</th>\n",
       "      <td>4</td>\n",
       "    </tr>\n",
       "  </tbody>\n",
       "</table>\n",
       "</div>"
      ],
      "text/plain": [
       "           Counts\n",
       "Sentiment        \n",
       "Neutral         4"
      ]
     },
     "execution_count": 49,
     "metadata": {},
     "output_type": "execute_result"
    }
   ],
   "source": [
    "sentiment_counts_df = dff[\"sentiments\"].value_counts().to_frame()\n",
    "sentiment_counts_df.reset_index(inplace=True)\n",
    "sentiment_counts_df.rename(columns={\"index\": \"Sentiment\", \"sentiments\": \"Counts\"}, inplace=True)\n",
    "sentiment_counts_df = sentiment_counts_df.set_index(\"Sentiment\")\n",
    "sentiment_counts_df\n"
   ]
  },
  {
   "cell_type": "code",
   "execution_count": 50,
   "metadata": {},
   "outputs": [
    {
     "data": {
      "text/plain": [
       "Neutral    4\n",
       "Name: sentiments, dtype: int64"
      ]
     },
     "execution_count": 50,
     "metadata": {},
     "output_type": "execute_result"
    }
   ],
   "source": [
    "stats=dff[\"sentiments\"].value_counts()\n",
    "stats"
   ]
  },
  {
   "cell_type": "code",
   "execution_count": 51,
   "metadata": {},
   "outputs": [
    {
     "data": {
      "image/png": "[encoded data removed]",
      "text/plain": [
       "<Figure size 800x800 with 1 Axes>"
      ]
     },
     "metadata": {},
     "output_type": "display_data"
    }
   ],
   "source": [
    "labels = sentiment_counts_df.index\n",
    "counts = sentiment_counts_df[\"Counts\"]\n",
    "\n",
    "plt.figure(figsize=(8, 8)) \n",
    "\n",
    "max_index = counts.idxmax()\n",
    "explode = [0.1 if sentiment == max_index else 0 for sentiment in labels]\n",
    "\n",
    "\n",
    "plt.pie(counts, labels=labels, autopct='%1.1f%%', startangle=140, explode=explode)\n",
    "\n",
    "plt.title('Sentiment Distribution Pie Chart')\n",
    "\n",
    "plt.axis('equal')  \n",
    "plt.show()\n"
   ]
  }
 ],
 "metadata": {
  "kernelspec": {
   "display_name": "Python 3",
   "language": "python",
   "name": "python3"
  },
  "language_info": {
   "codemirror_mode": {
    "name": "ipython",
    "version": 3
   },
   "file_extension": ".py",
   "mimetype": "text/x-python",
   "name": "python",
   "nbconvert_exporter": "python",
   "pygments_lexer": "ipython3",
   "version": "3.10.7"
  },
  "orig_nbformat": 4
 },
 "nbformat": 4,
 "nbformat_minor": 2
}
